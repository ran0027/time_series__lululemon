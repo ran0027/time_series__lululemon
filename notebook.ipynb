{
 "cells": [
  {
   "cell_type": "markdown",
   "metadata": {},
   "source": [
    "The purpose of this notebook is to practice modeling time series."
   ]
  },
  {
   "cell_type": "markdown",
   "metadata": {},
   "source": [
    "The data I am going to use is from Google Trends, showing the popularity of the search term \"lululemon\" since 2004."
   ]
  },
  {
   "cell_type": "markdown",
   "metadata": {},
   "source": [
    "![Lululemon store front](images/lulu_storefront.png)"
   ]
  },
  {
   "cell_type": "markdown",
   "metadata": {},
   "source": [
    "The raw data (to which we don't have access) is the number of searches for \"lululemon\" per month.\n",
    "\n",
    "This raw data is scaled by a factor of the largest number of searches for lululemon in a single month to obtain our data (**so a time series value of 100 indicates that, the largest number of searches ever conducted for \"lululemon\" in a single month occurred during that month.**)"
   ]
  },
  {
   "cell_type": "markdown",
   "metadata": {},
   "source": [
    "Let's load the data and take a look at it."
   ]
  },
  {
   "cell_type": "code",
   "execution_count": 6,
   "metadata": {},
   "outputs": [],
   "source": [
    "# import pandas for data manipulation\n",
    "import pandas as pd\n",
    "\n",
    "# read data; skip header row\n",
    "raw = pd.read_csv('data/lululemon_since_2004.csv', skiprows=1)"
   ]
  },
  {
   "cell_type": "code",
   "execution_count": 9,
   "metadata": {},
   "outputs": [],
   "source": [
    "# change 'Month' to datetime format\n",
    "raw['Month'] = pd.to_datetime(raw['Month'], format='%Y-%m')\n",
    "\n",
    "# set the 'Month' to be the index\n",
    "raw = raw.set_index('Month')"
   ]
  },
  {
   "cell_type": "markdown",
   "metadata": {},
   "source": [
    "In the process of making the index a datetime object, I noticed that the column name for the values is weird. Let's make it \"lululemon.\""
   ]
  },
  {
   "cell_type": "code",
   "execution_count": 14,
   "metadata": {},
   "outputs": [],
   "source": [
    "raw.columns = ['lululemon']"
   ]
  },
  {
   "cell_type": "markdown",
   "metadata": {},
   "source": [
    "Months with low search counts are listed as '<1', which could be an issue for modeling. How many of these do we have?"
   ]
  },
  {
   "cell_type": "code",
   "execution_count": 18,
   "metadata": {},
   "outputs": [
    {
     "data": {
      "text/html": [
       "<div>\n",
       "<style scoped>\n",
       "    .dataframe tbody tr th:only-of-type {\n",
       "        vertical-align: middle;\n",
       "    }\n",
       "\n",
       "    .dataframe tbody tr th {\n",
       "        vertical-align: top;\n",
       "    }\n",
       "\n",
       "    .dataframe thead th {\n",
       "        text-align: right;\n",
       "    }\n",
       "</style>\n",
       "<table border=\"1\" class=\"dataframe\">\n",
       "  <thead>\n",
       "    <tr style=\"text-align: right;\">\n",
       "      <th></th>\n",
       "      <th>lululemon</th>\n",
       "    </tr>\n",
       "    <tr>\n",
       "      <th>Month</th>\n",
       "      <th></th>\n",
       "    </tr>\n",
       "  </thead>\n",
       "  <tbody>\n",
       "    <tr>\n",
       "      <th>2004-01-01</th>\n",
       "      <td>&lt;1</td>\n",
       "    </tr>\n",
       "    <tr>\n",
       "      <th>2004-02-01</th>\n",
       "      <td>&lt;1</td>\n",
       "    </tr>\n",
       "    <tr>\n",
       "      <th>2004-04-01</th>\n",
       "      <td>&lt;1</td>\n",
       "    </tr>\n",
       "    <tr>\n",
       "      <th>2004-09-01</th>\n",
       "      <td>&lt;1</td>\n",
       "    </tr>\n",
       "    <tr>\n",
       "      <th>2004-10-01</th>\n",
       "      <td>&lt;1</td>\n",
       "    </tr>\n",
       "    <tr>\n",
       "      <th>2004-12-01</th>\n",
       "      <td>&lt;1</td>\n",
       "    </tr>\n",
       "    <tr>\n",
       "      <th>2005-01-01</th>\n",
       "      <td>&lt;1</td>\n",
       "    </tr>\n",
       "    <tr>\n",
       "      <th>2005-02-01</th>\n",
       "      <td>&lt;1</td>\n",
       "    </tr>\n",
       "    <tr>\n",
       "      <th>2005-03-01</th>\n",
       "      <td>&lt;1</td>\n",
       "    </tr>\n",
       "    <tr>\n",
       "      <th>2005-04-01</th>\n",
       "      <td>&lt;1</td>\n",
       "    </tr>\n",
       "    <tr>\n",
       "      <th>2005-05-01</th>\n",
       "      <td>&lt;1</td>\n",
       "    </tr>\n",
       "    <tr>\n",
       "      <th>2005-06-01</th>\n",
       "      <td>&lt;1</td>\n",
       "    </tr>\n",
       "    <tr>\n",
       "      <th>2005-07-01</th>\n",
       "      <td>&lt;1</td>\n",
       "    </tr>\n",
       "    <tr>\n",
       "      <th>2005-08-01</th>\n",
       "      <td>&lt;1</td>\n",
       "    </tr>\n",
       "    <tr>\n",
       "      <th>2005-09-01</th>\n",
       "      <td>&lt;1</td>\n",
       "    </tr>\n",
       "    <tr>\n",
       "      <th>2005-10-01</th>\n",
       "      <td>&lt;1</td>\n",
       "    </tr>\n",
       "    <tr>\n",
       "      <th>2005-11-01</th>\n",
       "      <td>&lt;1</td>\n",
       "    </tr>\n",
       "    <tr>\n",
       "      <th>2005-12-01</th>\n",
       "      <td>&lt;1</td>\n",
       "    </tr>\n",
       "  </tbody>\n",
       "</table>\n",
       "</div>"
      ],
      "text/plain": [
       "           lululemon\n",
       "Month               \n",
       "2004-01-01        <1\n",
       "2004-02-01        <1\n",
       "2004-04-01        <1\n",
       "2004-09-01        <1\n",
       "2004-10-01        <1\n",
       "2004-12-01        <1\n",
       "2005-01-01        <1\n",
       "2005-02-01        <1\n",
       "2005-03-01        <1\n",
       "2005-04-01        <1\n",
       "2005-05-01        <1\n",
       "2005-06-01        <1\n",
       "2005-07-01        <1\n",
       "2005-08-01        <1\n",
       "2005-09-01        <1\n",
       "2005-10-01        <1\n",
       "2005-11-01        <1\n",
       "2005-12-01        <1"
      ]
     },
     "execution_count": 18,
     "metadata": {},
     "output_type": "execute_result"
    }
   ],
   "source": [
    "raw.loc[raw.lululemon == '<1']"
   ]
  },
  {
   "cell_type": "markdown",
   "metadata": {},
   "source": [
    "It looks like half of the months in 2004 and all of the months in 2005 had a small number of searches. When was lululemon founded? What did their expansion look like?\n",
    "\n",
    "----\n",
    "\n",
    "It appears that Lululemon was officially founded in 1998, went public in 2007 and started selling clothes online in 2009.\n",
    "\n",
    "What if we use data from the year before lululemon went public, going forward? This will also allow us to convert the values in our series to type integer, since we will avoid the '<1' values completely."
   ]
  },
  {
   "cell_type": "code",
   "execution_count": 21,
   "metadata": {},
   "outputs": [
    {
     "data": {
      "text/html": [
       "<div>\n",
       "<style scoped>\n",
       "    .dataframe tbody tr th:only-of-type {\n",
       "        vertical-align: middle;\n",
       "    }\n",
       "\n",
       "    .dataframe tbody tr th {\n",
       "        vertical-align: top;\n",
       "    }\n",
       "\n",
       "    .dataframe thead th {\n",
       "        text-align: right;\n",
       "    }\n",
       "</style>\n",
       "<table border=\"1\" class=\"dataframe\">\n",
       "  <thead>\n",
       "    <tr style=\"text-align: right;\">\n",
       "      <th></th>\n",
       "      <th>lululemon</th>\n",
       "    </tr>\n",
       "    <tr>\n",
       "      <th>Month</th>\n",
       "      <th></th>\n",
       "    </tr>\n",
       "  </thead>\n",
       "  <tbody>\n",
       "    <tr>\n",
       "      <th>2006-01-01</th>\n",
       "      <td>1</td>\n",
       "    </tr>\n",
       "    <tr>\n",
       "      <th>2006-02-01</th>\n",
       "      <td>1</td>\n",
       "    </tr>\n",
       "    <tr>\n",
       "      <th>2006-03-01</th>\n",
       "      <td>1</td>\n",
       "    </tr>\n",
       "    <tr>\n",
       "      <th>2006-04-01</th>\n",
       "      <td>1</td>\n",
       "    </tr>\n",
       "    <tr>\n",
       "      <th>2006-05-01</th>\n",
       "      <td>1</td>\n",
       "    </tr>\n",
       "  </tbody>\n",
       "</table>\n",
       "</div>"
      ],
      "text/plain": [
       "            lululemon\n",
       "Month                \n",
       "2006-01-01          1\n",
       "2006-02-01          1\n",
       "2006-03-01          1\n",
       "2006-04-01          1\n",
       "2006-05-01          1"
      ]
     },
     "execution_count": 21,
     "metadata": {},
     "output_type": "execute_result"
    }
   ],
   "source": [
    "data = raw['2006-01-01':].astype(int)\n",
    "\n",
    "data.head()"
   ]
  },
  {
   "cell_type": "markdown",
   "metadata": {},
   "source": [
    "Now we're ready to plot our time series and get our first glimpse of any larger patterns in the data."
   ]
  },
  {
   "cell_type": "code",
   "execution_count": 24,
   "metadata": {},
   "outputs": [
    {
     "data": {
      "image/png": "[encoded data removed]",
      "text/plain": [
       "<Figure size 432x288 with 1 Axes>"
      ]
     },
     "metadata": {
      "needs_background": "light"
     },
     "output_type": "display_data"
    }
   ],
   "source": [
    "data.plot();"
   ]
  },
  {
   "cell_type": "markdown",
   "metadata": {},
   "source": [
    "Excellent! We have an upward trend - possibly exponential - and some seasonality as well."
   ]
  },
  {
   "cell_type": "markdown",
   "metadata": {},
   "source": [
    "Let's work on stationarizing our data so that we can fit an ARIMA model to it and try to predict lululemon searches in the latter part of 2023."
   ]
  },
  {
   "cell_type": "markdown",
   "metadata": {},
   "source": [
    "#### Stationarizing the Series"
   ]
  },
  {
   "cell_type": "markdown",
   "metadata": {},
   "source": [
    "First, we can confirm that our series is NOT stationary as-is with an augmented Dickey Fuller test."
   ]
  },
  {
   "cell_type": "code",
   "execution_count": 26,
   "metadata": {},
   "outputs": [
    {
     "data": {
      "text/plain": [
       "0.9715262084982754"
      ]
     },
     "execution_count": 26,
     "metadata": {},
     "output_type": "execute_result"
    }
   ],
   "source": [
    "from statsmodels.tsa.stattools import adfuller\n",
    "\n",
    "# let's say our alpha value is 0.05, corresponding to 95% confidence\n",
    "adfuller(data)[1]"
   ]
  },
  {
   "cell_type": "markdown",
   "metadata": {},
   "source": [
    "Our p-value is significantly larger than our preset alpha. This means that we fail to reject the null hypothesis (which is that our data is not stationary.)\n",
    "\n",
    "To put it simply, our test confirms what we can visually see in the graph of the series; our series is NOT stationary."
   ]
  },
  {
   "cell_type": "markdown",
   "metadata": {},
   "source": [
    "What is the effect of differencing the series?"
   ]
  },
  {
   "cell_type": "code",
   "execution_count": 27,
   "metadata": {},
   "outputs": [
    {
     "data": {
      "image/png": "[encoded data removed]",
      "text/plain": [
       "<Figure size 432x288 with 1 Axes>"
      ]
     },
     "metadata": {
      "needs_background": "light"
     },
     "output_type": "display_data"
    }
   ],
   "source": [
    "data.diff().plot();"
   ]
  },
  {
   "cell_type": "markdown",
   "metadata": {},
   "source": [
    "Taking the first difference removes the upward linear trend from the data. The mean is now constant."
   ]
  },
  {
   "cell_type": "markdown",
   "metadata": {},
   "source": [
    "Next, we need to address the seasonality of the data and the increasing variance."
   ]
  },
  {
   "cell_type": "markdown",
   "metadata": {},
   "source": [
    "To deal with the increasing variance, let's try taking the logarithm. Now I realize that this should have been my first step. 😊 (Note: one reason for this, is that I can't take the logarithm of a negative number, and differencing typically introduces negative numbers.)"
   ]
  },
  {
   "cell_type": "code",
   "execution_count": 28,
   "metadata": {},
   "outputs": [
    {
     "data": {
      "image/png": "[encoded data removed]",
      "text/plain": [
       "<Figure size 432x288 with 1 Axes>"
      ]
     },
     "metadata": {
      "needs_background": "light"
     },
     "output_type": "display_data"
    }
   ],
   "source": [
    "# import numpy for logarithm\n",
    "import numpy as np\n",
    "\n",
    "# plot log of scaled search counts\n",
    "np.log(data).plot();"
   ]
  },
  {
   "cell_type": "code",
   "execution_count": 29,
   "metadata": {},
   "outputs": [
    {
     "data": {
      "image/png": "[encoded data removed]",
      "text/plain": [
       "<Figure size 432x288 with 1 Axes>"
      ]
     },
     "metadata": {
      "needs_background": "light"
     },
     "output_type": "display_data"
    }
   ],
   "source": [
    "# now take the first difference\n",
    "(np.log(data)).diff().plot();"
   ]
  },
  {
   "cell_type": "markdown",
   "metadata": {},
   "source": [
    "Our data now has fairly constant variance and mean.\n",
    "\n",
    "However, we still see some seasonality.\n",
    "\n",
    "Let's see if we can dig into the data and figure out how many periods are required to repeat the seasonality trend."
   ]
  },
  {
   "cell_type": "markdown",
   "metadata": {},
   "source": [
    "2015 looks like a good year to inspect to confirm the seasonality pattern."
   ]
  },
  {
   "cell_type": "code",
   "execution_count": 37,
   "metadata": {},
   "outputs": [
    {
     "data": {
      "image/png": "[encoded data removed]",
      "text/plain": [
       "<Figure size 1152x144 with 1 Axes>"
      ]
     },
     "metadata": {
      "needs_background": "light"
     },
     "output_type": "display_data"
    }
   ],
   "source": [
    "# import matplotlib module for heatmap\n",
    "import matplotlib.pyplot as plt\n",
    "\n",
    "# plot heatmap for 2015 data\n",
    "plt.matshow(data['2015-01-01':'2015-12-31'].T);"
   ]
  },
  {
   "cell_type": "code",
   "execution_count": 39,
   "metadata": {
    "scrolled": true
   },
   "outputs": [
    {
     "data": {
      "text/html": [
       "<div>\n",
       "<style scoped>\n",
       "    .dataframe tbody tr th:only-of-type {\n",
       "        vertical-align: middle;\n",
       "    }\n",
       "\n",
       "    .dataframe tbody tr th {\n",
       "        vertical-align: top;\n",
       "    }\n",
       "\n",
       "    .dataframe thead th {\n",
       "        text-align: right;\n",
       "    }\n",
       "</style>\n",
       "<table border=\"1\" class=\"dataframe\">\n",
       "  <thead>\n",
       "    <tr style=\"text-align: right;\">\n",
       "      <th>Month</th>\n",
       "      <th>2015-01-01</th>\n",
       "      <th>2015-02-01</th>\n",
       "      <th>2015-03-01</th>\n",
       "      <th>2015-04-01</th>\n",
       "      <th>2015-05-01</th>\n",
       "      <th>2015-06-01</th>\n",
       "      <th>2015-07-01</th>\n",
       "      <th>2015-08-01</th>\n",
       "      <th>2015-09-01</th>\n",
       "      <th>2015-10-01</th>\n",
       "      <th>2015-11-01</th>\n",
       "      <th>2015-12-01</th>\n",
       "    </tr>\n",
       "  </thead>\n",
       "  <tbody>\n",
       "    <tr>\n",
       "      <th>lululemon</th>\n",
       "      <td>21</td>\n",
       "      <td>20</td>\n",
       "      <td>20</td>\n",
       "      <td>18</td>\n",
       "      <td>18</td>\n",
       "      <td>18</td>\n",
       "      <td>19</td>\n",
       "      <td>19</td>\n",
       "      <td>20</td>\n",
       "      <td>20</td>\n",
       "      <td>27</td>\n",
       "      <td>32</td>\n",
       "    </tr>\n",
       "  </tbody>\n",
       "</table>\n",
       "</div>"
      ],
      "text/plain": [
       "Month      2015-01-01  2015-02-01  2015-03-01  2015-04-01  2015-05-01  \\\n",
       "lululemon          21          20          20          18          18   \n",
       "\n",
       "Month      2015-06-01  2015-07-01  2015-08-01  2015-09-01  2015-10-01  \\\n",
       "lululemon          18          19          19          20          20   \n",
       "\n",
       "Month      2015-11-01  2015-12-01  \n",
       "lululemon          27          32  "
      ]
     },
     "execution_count": 39,
     "metadata": {},
     "output_type": "execute_result"
    }
   ],
   "source": [
    "# see actual numbers as well\n",
    "data['2015-01-01':'2015-12-31'].T"
   ]
  },
  {
   "cell_type": "markdown",
   "metadata": {},
   "source": [
    "So there seems to be a spike in lululemon searches in the last couple of months of the year (possibly corresponding to holiday gift-giving?)\n",
    "\n",
    "Search popularity is pretty steady the rest of the year."
   ]
  },
  {
   "cell_type": "markdown",
   "metadata": {},
   "source": [
    "Let's try differencing over 12 time periods (months) to see if we can remove the seasonality."
   ]
  },
  {
   "cell_type": "code",
   "execution_count": 42,
   "metadata": {},
   "outputs": [
    {
     "data": {
      "image/png": "[encoded data removed]",
      "text/plain": [
       "<Figure size 432x288 with 1 Axes>"
      ]
     },
     "metadata": {
      "needs_background": "light"
     },
     "output_type": "display_data"
    }
   ],
   "source": [
    "np.log(data).diff().diff(12).plot();"
   ]
  },
  {
   "cell_type": "markdown",
   "metadata": {},
   "source": [
    "It seems that the same pattern didn't hold from 2007 to 2013 (we saw this pretty clearly above when plotting the logarithm of the original data, which appeared to be almost piecewise linear), but taking the 12th order difference did help to remove the seasonality from 2015 onward.\n",
    "\n",
    "Let's repeat our augmented Dickey Fuller test to see if we have made this series stationary *enough* for modeling purposes."
   ]
  },
  {
   "cell_type": "code",
   "execution_count": 45,
   "metadata": {},
   "outputs": [
    {
     "data": {
      "text/plain": [
       "4.227259072740585e-09"
      ]
     },
     "execution_count": 45,
     "metadata": {},
     "output_type": "execute_result"
    }
   ],
   "source": [
    "# set alpha = 0.05\n",
    "adfuller(np.log(data).diff().diff(12).dropna())[1]"
   ]
  },
  {
   "cell_type": "markdown",
   "metadata": {},
   "source": [
    "Our p-value is now tiny! Definitely smaller than 0.05.\n",
    "\n",
    "We can now safely reject the null hypothesis that our series is stationary.\n",
    "\n",
    "Let's assign this stationarized series to a variable."
   ]
  },
  {
   "cell_type": "code",
   "execution_count": 46,
   "metadata": {},
   "outputs": [],
   "source": [
    "series = np.log(data).diff().diff(12).dropna()"
   ]
  },
  {
   "cell_type": "code",
   "execution_count": 48,
   "metadata": {},
   "outputs": [
    {
     "data": {
      "image/png": "[encoded data removed]",
      "text/plain": [
       "<Figure size 432x288 with 1 Axes>"
      ]
     },
     "metadata": {
      "needs_background": "light"
     },
     "output_type": "display_data"
    }
   ],
   "source": [
    "series.plot();"
   ]
  },
  {
   "cell_type": "markdown",
   "metadata": {},
   "source": [
    "Now let's import everything we need to build an ARIMA model for the data."
   ]
  },
  {
   "cell_type": "markdown",
   "metadata": {},
   "source": [
    "#### Modeling (ARIMA)"
   ]
  },
  {
   "cell_type": "markdown",
   "metadata": {},
   "source": [
    "First, let's import some functions for plotting auto-correlation and partial auto-correlation to help us determine the order of $p$ and $q$ for our model."
   ]
  },
  {
   "cell_type": "code",
   "execution_count": 81,
   "metadata": {},
   "outputs": [
    {
     "data": {
      "image/png": "[encoded data removed]",
      "text/plain": [
       "<Figure size 864x288 with 2 Axes>"
      ]
     },
     "metadata": {
      "needs_background": "light"
     },
     "output_type": "display_data"
    }
   ],
   "source": [
    "from statsmodels.graphics.tsaplots import plot_acf, plot_pacf\n",
    "\n",
    "# plot acf and pacf side by side\n",
    "fig, ax = plt.subplots(ncols=2, figsize=(12, 4))\n",
    "plot_acf(series, ax=ax[0])\n",
    "plot_pacf(series, ax=ax[1]);"
   ]
  },
  {
   "cell_type": "markdown",
   "metadata": {},
   "source": [
    "It appears that both $p$ and $q$ should be set to 1."
   ]
  },
  {
   "cell_type": "markdown",
   "metadata": {},
   "source": [
    "Let's be sure to train-test split the data. I'm going to reserve data from 2020, 2021 and 2022 to be our \"test\" data and use the rest as training data."
   ]
  },
  {
   "cell_type": "code",
   "execution_count": 77,
   "metadata": {},
   "outputs": [],
   "source": [
    "train = series[:'2019-12-31']\n",
    "test = series['2020-01-01':]"
   ]
  },
  {
   "cell_type": "markdown",
   "metadata": {},
   "source": [
    "Now let's fit an ARIMA model with $p=1$ and $q=1$."
   ]
  },
  {
   "cell_type": "code",
   "execution_count": 79,
   "metadata": {},
   "outputs": [],
   "source": [
    "from statsmodels.tsa.arima.model import ARIMA\n",
    "# fit model to training data, order is (p, d, q)\n",
    "model = ARIMA(train, order=(1,0,1), freq='MS')\n",
    "\n",
    "results = model.fit()"
   ]
  },
  {
   "cell_type": "code",
   "execution_count": 80,
   "metadata": {},
   "outputs": [
    {
     "data": {
      "text/html": [
       "<table class=\"simpletable\">\n",
       "<caption>SARIMAX Results</caption>\n",
       "<tr>\n",
       "  <th>Dep. Variable:</th>       <td>lululemon</td>    <th>  No. Observations:  </th>    <td>155</td>  \n",
       "</tr>\n",
       "<tr>\n",
       "  <th>Model:</th>            <td>ARIMA(1, 0, 1)</td>  <th>  Log Likelihood     </th>  <td>68.017</td> \n",
       "</tr>\n",
       "<tr>\n",
       "  <th>Date:</th>            <td>Mon, 06 Mar 2023</td> <th>  AIC                </th> <td>-128.033</td>\n",
       "</tr>\n",
       "<tr>\n",
       "  <th>Time:</th>                <td>16:15:29</td>     <th>  BIC                </th> <td>-115.860</td>\n",
       "</tr>\n",
       "<tr>\n",
       "  <th>Sample:</th>             <td>02-01-2007</td>    <th>  HQIC               </th> <td>-123.089</td>\n",
       "</tr>\n",
       "<tr>\n",
       "  <th></th>                   <td>- 12-01-2019</td>   <th>                     </th>     <td> </td>   \n",
       "</tr>\n",
       "<tr>\n",
       "  <th>Covariance Type:</th>        <td>opg</td>       <th>                     </th>     <td> </td>   \n",
       "</tr>\n",
       "</table>\n",
       "<table class=\"simpletable\">\n",
       "<tr>\n",
       "     <td></td>       <th>coef</th>     <th>std err</th>      <th>z</th>      <th>P>|z|</th>  <th>[0.025</th>    <th>0.975]</th>  \n",
       "</tr>\n",
       "<tr>\n",
       "  <th>const</th>  <td>   -0.0010</td> <td>    0.004</td> <td>   -0.241</td> <td> 0.810</td> <td>   -0.009</td> <td>    0.007</td>\n",
       "</tr>\n",
       "<tr>\n",
       "  <th>ar.L1</th>  <td>    0.7641</td> <td>    0.078</td> <td>    9.813</td> <td> 0.000</td> <td>    0.611</td> <td>    0.917</td>\n",
       "</tr>\n",
       "<tr>\n",
       "  <th>ma.L1</th>  <td>   -0.9433</td> <td>    0.056</td> <td>  -16.893</td> <td> 0.000</td> <td>   -1.053</td> <td>   -0.834</td>\n",
       "</tr>\n",
       "<tr>\n",
       "  <th>sigma2</th> <td>    0.0243</td> <td>    0.002</td> <td>   15.732</td> <td> 0.000</td> <td>    0.021</td> <td>    0.027</td>\n",
       "</tr>\n",
       "</table>\n",
       "<table class=\"simpletable\">\n",
       "<tr>\n",
       "  <th>Ljung-Box (L1) (Q):</th>     <td>0.17</td> <th>  Jarque-Bera (JB):  </th> <td>188.39</td>\n",
       "</tr>\n",
       "<tr>\n",
       "  <th>Prob(Q):</th>                <td>0.68</td> <th>  Prob(JB):          </th>  <td>0.00</td> \n",
       "</tr>\n",
       "<tr>\n",
       "  <th>Heteroskedasticity (H):</th> <td>0.11</td> <th>  Skew:              </th>  <td>0.11</td> \n",
       "</tr>\n",
       "<tr>\n",
       "  <th>Prob(H) (two-sided):</th>    <td>0.00</td> <th>  Kurtosis:          </th>  <td>8.40</td> \n",
       "</tr>\n",
       "</table><br/><br/>Warnings:<br/>[1] Covariance matrix calculated using the outer product of gradients (complex-step)."
      ],
      "text/plain": [
       "<class 'statsmodels.iolib.summary.Summary'>\n",
       "\"\"\"\n",
       "                               SARIMAX Results                                \n",
       "==============================================================================\n",
       "Dep. Variable:              lululemon   No. Observations:                  155\n",
       "Model:                 ARIMA(1, 0, 1)   Log Likelihood                  68.017\n",
       "Date:                Mon, 06 Mar 2023   AIC                           -128.033\n",
       "Time:                        16:15:29   BIC                           -115.860\n",
       "Sample:                    02-01-2007   HQIC                          -123.089\n",
       "                         - 12-01-2019                                         \n",
       "Covariance Type:                  opg                                         \n",
       "==============================================================================\n",
       "                 coef    std err          z      P>|z|      [0.025      0.975]\n",
       "------------------------------------------------------------------------------\n",
       "const         -0.0010      0.004     -0.241      0.810      -0.009       0.007\n",
       "ar.L1          0.7641      0.078      9.813      0.000       0.611       0.917\n",
       "ma.L1         -0.9433      0.056    -16.893      0.000      -1.053      -0.834\n",
       "sigma2         0.0243      0.002     15.732      0.000       0.021       0.027\n",
       "===================================================================================\n",
       "Ljung-Box (L1) (Q):                   0.17   Jarque-Bera (JB):               188.39\n",
       "Prob(Q):                              0.68   Prob(JB):                         0.00\n",
       "Heteroskedasticity (H):               0.11   Skew:                             0.11\n",
       "Prob(H) (two-sided):                  0.00   Kurtosis:                         8.40\n",
       "===================================================================================\n",
       "\n",
       "Warnings:\n",
       "[1] Covariance matrix calculated using the outer product of gradients (complex-step).\n",
       "\"\"\""
      ]
     },
     "execution_count": 80,
     "metadata": {},
     "output_type": "execute_result"
    }
   ],
   "source": [
    "# view results\n",
    "results.summary()"
   ]
  },
  {
   "cell_type": "markdown",
   "metadata": {},
   "source": [
    "The coefficients are statistically significant except for the constant. It's not immediately clear why this would be so, or what this means for our model's predictive accuracy. Let's leave it alone for now, and evaluate our model using a formal metric."
   ]
  },
  {
   "cell_type": "markdown",
   "metadata": {},
   "source": [
    "#### Model Evaluation"
   ]
  },
  {
   "cell_type": "markdown",
   "metadata": {},
   "source": [
    "Let's compare our first ARIMA model to a \"naive\" model, then consider adjusting the orders to see if we can make any improvements (it's possible that I misread the acf / pacf plots.)"
   ]
  },
  {
   "cell_type": "markdown",
   "metadata": {},
   "source": [
    "A naive model is one which predicts the value from the last time period for the current time period. (I would guess that this model performs pretty well because the search results don't vary widely from month to month, except for maybe the last and first months of the year when there is the seasonal spike in the data. Of course, we tried to remove this seasonality, so this may not be an issue.)"
   ]
  },
  {
   "cell_type": "code",
   "execution_count": 86,
   "metadata": {},
   "outputs": [
    {
     "data": {
      "text/plain": [
       "0.2454692802669959"
      ]
     },
     "execution_count": 86,
     "metadata": {},
     "output_type": "execute_result"
    }
   ],
   "source": [
    "# import MSE metric\n",
    "from sklearn.metrics import mean_squared_error\n",
    "\n",
    "# use naive model, shifted one period forward, as baseline (drop null value for 1st month)\n",
    "baseline = train.shift().dropna()\n",
    "\n",
    "# calculate RMSE\n",
    "np.sqrt(mean_squared_error(train[1:], baseline))"
   ]
  },
  {
   "cell_type": "markdown",
   "metadata": {},
   "source": [
    "The root mean squared error is pretty low for our baseline model. Did we beat it with our $p=q=1$ ARIMA model?"
   ]
  },
  {
   "cell_type": "code",
   "execution_count": 90,
   "metadata": {},
   "outputs": [
    {
     "data": {
      "text/plain": [
       "0.1563036953463951"
      ]
     },
     "execution_count": 90,
     "metadata": {},
     "output_type": "execute_result"
    }
   ],
   "source": [
    "np.sqrt(results.mse)"
   ]
  },
  {
   "cell_type": "markdown",
   "metadata": {},
   "source": [
    "The RMSE is lower for our ARIMA model."
   ]
  },
  {
   "cell_type": "markdown",
   "metadata": {},
   "source": [
    "#### SARIMA Model"
   ]
  },
  {
   "cell_type": "markdown",
   "metadata": {},
   "source": [
    "Let's try building a SARIMA model with the original data. I have a suspicion that the model can take care of differencing to remove trends and seasonality without me doing that first (although it is still a good exercise to understand our data.)"
   ]
  },
  {
   "cell_type": "markdown",
   "metadata": {},
   "source": [
    "First, let's inspect the autocorrelation and partial autocorrelation plots for the original data."
   ]
  },
  {
   "cell_type": "code",
   "execution_count": 91,
   "metadata": {},
   "outputs": [
    {
     "data": {
      "image/png": "[encoded data removed]",
      "text/plain": [
       "<Figure size 864x288 with 2 Axes>"
      ]
     },
     "metadata": {
      "needs_background": "light"
     },
     "output_type": "display_data"
    }
   ],
   "source": [
    "# plot acf and pacf side by side\n",
    "fig, ax = plt.subplots(ncols=2, figsize=(12, 4))\n",
    "plot_acf(data, ax=ax[0])\n",
    "plot_pacf(data, ax=ax[1]);"
   ]
  },
  {
   "cell_type": "markdown",
   "metadata": {},
   "source": [
    "These plots suggest that we need an AR model with $p=2$.\n",
    "\n",
    "What if we plot the above for the **log** of the original data?"
   ]
  },
  {
   "cell_type": "code",
   "execution_count": 92,
   "metadata": {},
   "outputs": [
    {
     "data": {
      "image/png": "[encoded data removed]",
      "text/plain": [
       "<Figure size 864x288 with 2 Axes>"
      ]
     },
     "metadata": {
      "needs_background": "light"
     },
     "output_type": "display_data"
    }
   ],
   "source": [
    "# plot acf and pacf side by side\n",
    "fig, ax = plt.subplots(ncols=2, figsize=(12, 4))\n",
    "plot_acf(np.log(data), ax=ax[0])\n",
    "plot_pacf(np.log(data), ax=ax[1]);"
   ]
  },
  {
   "cell_type": "markdown",
   "metadata": {},
   "source": [
    "There is very little difference, though everything seems a bit smoother. Let's use the log of the original data for our models going forward."
   ]
  },
  {
   "cell_type": "markdown",
   "metadata": {},
   "source": [
    "We'll do a train-test split with the log of the original data."
   ]
  },
  {
   "cell_type": "code",
   "execution_count": 93,
   "metadata": {},
   "outputs": [],
   "source": [
    "# train test split\n",
    "train = np.log(data[:'2019-12-31'])\n",
    "test = np.log(data['2020-01-01':])"
   ]
  },
  {
   "cell_type": "markdown",
   "metadata": {},
   "source": [
    "I suspect seasonality every 12 months, so let's start with a seasonality of 12. (The degrees $p$ and $q$ we already determined from the acf and pacf plots above.) For $d$, I am going to use 1, because taking 1 difference seemed to be sufficient to visually remove the upward linear trend. Although, it might be worth trying higher order differences, particularly to deal with the seemingly different linear trends before and after 2013. (Treating the trend like an exponential one might help.)"
   ]
  },
  {
   "cell_type": "code",
   "execution_count": 94,
   "metadata": {},
   "outputs": [
    {
     "name": "stderr",
     "output_type": "stream",
     "text": [
      "/Users/user/opt/anaconda3/envs/learn-env/lib/python3.8/site-packages/statsmodels/tsa/base/tsa_model.py:524: ValueWarning: No frequency information was provided, so inferred frequency MS will be used.\n",
      "  warnings.warn('No frequency information was'\n"
     ]
    }
   ],
   "source": [
    "sarima = ARIMA(train, seasonal_order=(2,1,0,12), freq='MS')\n",
    "results=sarima.fit()"
   ]
  },
  {
   "cell_type": "code",
   "execution_count": 95,
   "metadata": {},
   "outputs": [
    {
     "data": {
      "text/plain": [
       "0.313232308340715"
      ]
     },
     "execution_count": 95,
     "metadata": {},
     "output_type": "execute_result"
    }
   ],
   "source": [
    "# RMSE\n",
    "np.sqrt(results.mse)"
   ]
  },
  {
   "cell_type": "markdown",
   "metadata": {},
   "source": [
    "The root mean squared error is much worse. Let's try iterating over several types of models."
   ]
  },
  {
   "cell_type": "code",
   "execution_count": 99,
   "metadata": {},
   "outputs": [
    {
     "name": "stdout",
     "output_type": "stream",
     "text": [
      "Best RMSE: 0.3114303099448147\n",
      "Best model: (1, 1, 2, 12)\n"
     ]
    }
   ],
   "source": [
    "ps = [1, 2]\n",
    "ds = [0, 1, 2]\n",
    "qs = [0, 1, 2]\n",
    "ss = [12, 14]\n",
    "\n",
    "orders = []\n",
    "rmses = []\n",
    "\n",
    "for p in ps:\n",
    "    for d in ds:\n",
    "        for q in qs:\n",
    "            for s in ss:\n",
    "                orders.append((p, d, q, s))\n",
    "                \n",
    "for seasonal_order in orders:\n",
    "    model = ARIMA(train, seasonal_order=seasonal_order)\n",
    "    rmses.append(np.sqrt(model.fit().mse))\n",
    "\n",
    "\n",
    "print(f'Best RMSE: {min(rmses)}')\n",
    "print(f'Best model: {orders[np.argmin(rmses)]}')"
   ]
  },
  {
   "cell_type": "markdown",
   "metadata": {},
   "source": [
    "Our best RMSE can't compete with the one we got with our detrended data and an ARIMA model with $p=q=1$."
   ]
  },
  {
   "cell_type": "markdown",
   "metadata": {},
   "source": [
    "Let's test our best ARIMA model on our test set, then move on to forecasting future search popularity."
   ]
  },
  {
   "cell_type": "code",
   "execution_count": 110,
   "metadata": {},
   "outputs": [
    {
     "name": "stderr",
     "output_type": "stream",
     "text": [
      "/Users/user/opt/anaconda3/envs/learn-env/lib/python3.8/site-packages/statsmodels/tsa/base/tsa_model.py:524: ValueWarning: No frequency information was provided, so inferred frequency MS will be used.\n",
      "  warnings.warn('No frequency information was'\n"
     ]
    },
    {
     "data": {
      "text/plain": [
       "0.12779655316565688"
      ]
     },
     "execution_count": 110,
     "metadata": {},
     "output_type": "execute_result"
    }
   ],
   "source": [
    "# reset train and test data to detrended series\n",
    "train = series[:'2019-12-31']\n",
    "test = series['2020-01-01':]\n",
    "\n",
    "# instantiate & fit ARIMA model with p=q=1\n",
    "model = ARIMA(train, order=(1,0,1), freq='MS').fit()\n",
    "\n",
    "# forecast up to 03-01 (39 months)\n",
    "y_test_preds = model.forecast(39)\n",
    "\n",
    "# check RMSE\n",
    "np.sqrt(mean_squared_error(test, y_test_preds))"
   ]
  },
  {
   "cell_type": "markdown",
   "metadata": {},
   "source": [
    "This is similar to (but technically even better than!) our model's performance on the training set. Perhaps because our model picked up on the trend from 2013 onward, though that may have hurt its performance on the earlier part of the training set?\n",
    "\n",
    "Let's compare to the naive model's performance on the test set."
   ]
  },
  {
   "cell_type": "code",
   "execution_count": 111,
   "metadata": {},
   "outputs": [
    {
     "data": {
      "text/plain": [
       "0.19067860955188012"
      ]
     },
     "execution_count": 111,
     "metadata": {},
     "output_type": "execute_result"
    }
   ],
   "source": [
    "baseline = test.shift().dropna()\n",
    "\n",
    "# calculate RMSE\n",
    "np.sqrt(mean_squared_error(test[1:], baseline))"
   ]
  },
  {
   "cell_type": "markdown",
   "metadata": {},
   "source": [
    "We've beaten the baseline model on the test set. 😮‍💨 Let's move on to forecasting (i.e. predicting the future) now."
   ]
  },
  {
   "cell_type": "markdown",
   "metadata": {},
   "source": [
    "#### Forecasting (Predicting the Future)"
   ]
  },
  {
   "cell_type": "markdown",
   "metadata": {},
   "source": [
    "How popular (in terms of Google searches for \"lululemon\") will Lululemon be in the latter half of 2023? or in early 2024?"
   ]
  },
  {
   "cell_type": "code",
   "execution_count": 114,
   "metadata": {},
   "outputs": [
    {
     "data": {
      "image/png": "[encoded data removed]",
      "text/plain": [
       "<Figure size 432x288 with 1 Axes>"
      ]
     },
     "metadata": {
      "needs_background": "light"
     },
     "output_type": "display_data"
    }
   ],
   "source": [
    "# forecast into the future!\n",
    "\n",
    "model.forecast(39+9)['2023-03-31':].plot();"
   ]
  },
  {
   "cell_type": "markdown",
   "metadata": {},
   "source": [
    "Of course, now we have to undo all of the changes we made to the data. This is how we formed the series we used for modeling from our original data:\n",
    "\n",
    "`series = np.log(data).diff().diff(12).dropna()`"
   ]
  },
  {
   "cell_type": "markdown",
   "metadata": {},
   "source": [
    "So we need to un-difference by 12, then undo the first order difference, then exponentiate the result.\n",
    "\n",
    "To \"un-difference\" the data, we need a starting value. E.g. the value for 2023-03-01 could be used. (Or, for greater accuracy, we should use the value for February, since that month has been fully completed at the time of this writing.)\n",
    "\n",
    "To \"undo\" the 12th difference, I need to *add* the logarithm of the first differnece of the actual time series value from 12 time periods ago. So let's get a shifted version of our time series to add to our forecast."
   ]
  },
  {
   "cell_type": "code",
   "execution_count": 146,
   "metadata": {},
   "outputs": [],
   "source": [
    "# predict test set, then extend 11 mos into future\n",
    "# only 11 mos, because Mar is included in test, but Mar is not finished yet\n",
    "forecast = model.forecast(39+11)['2023-02-01':]"
   ]
  },
  {
   "cell_type": "code",
   "execution_count": 149,
   "metadata": {},
   "outputs": [],
   "source": [
    "# shift values from 12 months before forecast, 12 mos forward\n",
    "seasonal_shift = pd.Series([i[0] for i in data['2022-01-31':'2023-02-28'].values],\n",
    "                           index=forecast.index)\n",
    "# take log of time series values & first difference\n",
    "seasonal_shift = np.log(seasonal_shift).diff().dropna()"
   ]
  },
  {
   "cell_type": "markdown",
   "metadata": {},
   "source": [
    "Now, below we have the value of `np.log(data).diff()`. (The 12 month \"seasonal\" difference has been undone.)"
   ]
  },
  {
   "cell_type": "code",
   "execution_count": 151,
   "metadata": {},
   "outputs": [
    {
     "data": {
      "text/plain": [
       "2023-03-01    0.039864\n",
       "2023-04-01   -0.041780\n",
       "2023-05-01    0.059667\n",
       "2023-06-01    0.144754\n",
       "2023-07-01    0.080388\n",
       "2023-08-01    0.044852\n",
       "2023-09-01   -0.128112\n",
       "2023-10-01   -0.018051\n",
       "2023-11-01    0.449460\n",
       "2023-12-01    0.093354\n",
       "2024-01-01   -0.357632\n",
       "2024-02-01   -0.171915\n",
       "Freq: MS, dtype: float64"
      ]
     },
     "execution_count": 151,
     "metadata": {},
     "output_type": "execute_result"
    }
   ],
   "source": [
    "(forecast + seasonal_shift).dropna()"
   ]
  },
  {
   "cell_type": "markdown",
   "metadata": {},
   "source": [
    "Next we will undo the first difference, then we will finally be ready to exponentiate."
   ]
  },
  {
   "cell_type": "markdown",
   "metadata": {},
   "source": [
    "To undo the first difference, we will start by adding the predicted value for 2023-03-01 (without the seasonal difference) to the log of the true time series value for the previous month."
   ]
  },
  {
   "cell_type": "code",
   "execution_count": 172,
   "metadata": {},
   "outputs": [
    {
     "data": {
      "text/plain": [
       "4.07753744390572"
      ]
     },
     "execution_count": 172,
     "metadata": {},
     "output_type": "execute_result"
    }
   ],
   "source": [
    "np.log(data.loc['2023-02-01'].values[0])"
   ]
  },
  {
   "cell_type": "markdown",
   "metadata": {},
   "source": [
    "Then this sum will be added to the next row in the forecast (without the seasonal difference.) And so on and so forth."
   ]
  },
  {
   "cell_type": "code",
   "execution_count": 173,
   "metadata": {},
   "outputs": [],
   "source": [
    "# name the step after \"adding back in\" seasonality\n",
    "with_seasonal = (forecast + seasonal_shift).dropna()\n",
    "\n",
    "# update the first term using original data\n",
    "with_seasonal[0] += np.log(data.loc['2023-02-01'].values[0])\n",
    "\n",
    "# update additional terms using previous term\n",
    "for i in range(1, len(with_seasonal)):\n",
    "    with_seasonal[i] += with_seasonal[i-1]"
   ]
  },
  {
   "cell_type": "code",
   "execution_count": 175,
   "metadata": {},
   "outputs": [],
   "source": [
    "# exponentiate to \"undo\" logarithm\n",
    "true_forecast = np.exp(with_seasonal)"
   ]
  },
  {
   "cell_type": "code",
   "execution_count": 176,
   "metadata": {},
   "outputs": [
    {
     "data": {
      "image/png": "[encoded data removed]",
      "text/plain": [
       "<Figure size 432x288 with 1 Axes>"
      ]
     },
     "metadata": {
      "needs_background": "light"
     },
     "output_type": "display_data"
    }
   ],
   "source": [
    "# plot to get a quick idea of feasibility\n",
    "true_forecast.plot();"
   ]
  },
  {
   "cell_type": "markdown",
   "metadata": {},
   "source": [
    "The plot certainly doesn't look totally out of place. Let's plot our actual data with the forecast values on the same graph to see if anything *looks* majorly out of place."
   ]
  },
  {
   "cell_type": "code",
   "execution_count": 177,
   "metadata": {},
   "outputs": [
    {
     "data": {
      "image/png": "[encoded data removed]",
      "text/plain": [
       "<Figure size 432x288 with 1 Axes>"
      ]
     },
     "metadata": {
      "needs_background": "light"
     },
     "output_type": "display_data"
    }
   ],
   "source": [
    "fig, ax = plt.subplots()\n",
    "data.plot(ax=ax)\n",
    "true_forecast.plot(ax=ax, c='r');"
   ]
  },
  {
   "cell_type": "markdown",
   "metadata": {},
   "source": [
    "Interesting. Despite not training our model on the data from 2020 onward, it has clearly picked up on the steep upward linear trend at the \"end\" of the graph.\n",
    "\n",
    "In the peak months of 2023, google search interest in \"lululemon\" will grow by 20% from peak interest last year (2022.)"
   ]
  },
  {
   "cell_type": "markdown",
   "metadata": {},
   "source": [
    "#### Limitations\n",
    "\n",
    "Does this model account for an inevidible \"leveling off\" of upward growth?"
   ]
  },
  {
   "cell_type": "markdown",
   "metadata": {},
   "source": [
    "#### Next Steps\n",
    "\n",
    "That was a lot of work for something that doesn't persist! If this graph seems valuable to the Lululemon execs, then I can work on cleaning up the code to make it \"deployable\" and having it automatically update with new data and feed into a dashboard."
   ]
  }
 ],
 "metadata": {
  "kernelspec": {
   "display_name": "Python (learn-env)",
   "language": "python",
   "name": "learn-env"
  },
  "language_info": {
   "codemirror_mode": {
    "name": "ipython",
    "version": 3
   },
   "file_extension": ".py",
   "mimetype": "text/x-python",
   "name": "python",
   "nbconvert_exporter": "python",
   "pygments_lexer": "ipython3",
   "version": "3.8.5"
  },
  "toc": {
   "base_numbering": 1,
   "nav_menu": {},
   "number_sections": true,
   "sideBar": true,
   "skip_h1_title": false,
   "title_cell": "Table of Contents",
   "title_sidebar": "Contents",
   "toc_cell": false,
   "toc_position": {},
   "toc_section_display": true,
   "toc_window_display": false
  }
 },
 "nbformat": 4,
 "nbformat_minor": 4
}
